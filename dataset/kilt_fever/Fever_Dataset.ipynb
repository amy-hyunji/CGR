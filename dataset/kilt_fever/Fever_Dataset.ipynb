{
 "cells": [
  {
   "cell_type": "code",
   "execution_count": 46,
   "metadata": {},
   "outputs": [
    {
     "name": "stdout",
     "output_type": "stream",
     "text": [
      "Requirement already satisfied: jsonlines in /mnt/home/hyunji1/.conda/envs/genre2/lib/python3.7/site-packages (3.1.0)\n",
      "Requirement already satisfied: typing-extensions in /mnt/home/hyunji1/.conda/envs/genre2/lib/python3.7/site-packages (from jsonlines) (4.3.0)\n",
      "Requirement already satisfied: attrs>=19.2.0 in /mnt/home/hyunji1/.conda/envs/genre2/lib/python3.7/site-packages (from jsonlines) (21.4.0)\n",
      "dict_keys(['id', 'output', 'input'])\n"
     ]
    }
   ],
   "source": [
    "!pip install jsonlines\n",
    "import sys\n",
    "import jsonlines\n",
    "\n",
    "dname = \"trivia\"\n",
    "\n",
    "# keys -> id, input, output\n",
    "train_dict = {'id': [], 'input': [], 'output': []}\n",
    "with jsonlines.open(f\"../kilt_{dname}/{dname}-train-kilt.jsonl\") as f:\n",
    "    for i, line in enumerate(f.iter()):\n",
    "        if i == 0: print(line.keys())\n",
    "        train_dict['id'].append(line['id'])\n",
    "        train_dict['input'].append(line['input'])\n",
    "        train_dict['output'].append(line['output'])"
   ]
  },
  {
   "cell_type": "code",
   "execution_count": null,
   "metadata": {},
   "outputs": [],
   "source": []
  },
  {
   "cell_type": "code",
   "execution_count": 47,
   "metadata": {},
   "outputs": [
    {
     "data": {
      "text/plain": [
       "61844"
      ]
     },
     "execution_count": 47,
     "metadata": {},
     "output_type": "execute_result"
    }
   ],
   "source": [
    "len(train_dict['id'])"
   ]
  },
  {
   "cell_type": "code",
   "execution_count": 48,
   "metadata": {},
   "outputs": [
    {
     "name": "stdout",
     "output_type": "stream",
     "text": [
      "input: What denomination of British bank note depicts twenty prisoners crammed into one cell?\n",
      "output: [{'answer': 'five  £'}, {'answer': '5 £'}, {'answer': '£5', 'provenance': [{'wikipedia_id': '270680', 'title': 'Banknotes of the pound sterling', 'start_paragraph_id': 30, 'start_character': 246, 'end_paragraph_id': 30, 'end_character': 248, 'bleu_score': 1.0, 'section': 'Section::::Question of legal tender.\\n'}]}, {'answer': 'five £'}]\n",
      "\n",
      "\n",
      "input: Under what name did Terry the dog achieve fame in a 1939 film?\n",
      "output: [{'answer': 'TOTO (disambiguation)'}, {'answer': 'TOTO'}, {'answer': 'toto disambiguation'}, {'answer': 'toto'}]\n",
      "\n",
      "\n",
      "input: Who connects the BBC news, ‘Crimewatch’, and ‘Antiques Roadshow’?\n",
      "output: [{'answer': 'FIONA BRUCE'}, {'answer': 'Fiona Bruce', 'provenance': [{'wikipedia_id': '1139893', 'title': 'BBC News', 'start_paragraph_id': 51, 'start_character': 271, 'end_paragraph_id': 51, 'end_character': 282, 'bleu_score': 1.0, 'section': 'Section::::History.:2000s.\\n'}]}, {'answer': 'Fiona Bruce', 'provenance': [{'wikipedia_id': '23297505', 'title': 'Crimewatch', 'start_paragraph_id': 2, 'start_character': 402, 'end_paragraph_id': 2, 'end_character': 413, 'bleu_score': 1.0, 'section': 'Section::::Abstract.'}]}, {'answer': 'Fiona Bruce', 'provenance': [{'wikipedia_id': '538901', 'title': 'Antiques Roadshow', 'start_paragraph_id': 1, 'start_character': 490, 'end_paragraph_id': 1, 'end_character': 501, 'bleu_score': 1.0, 'section': 'Section::::Abstract.'}]}, {'answer': 'fiona bruce'}]\n",
      "\n",
      "\n",
      "input: Born in 1963, whose real name is Georgios Kyriacos Panayiotou?\n",
      "output: [{'answer': 'Georgios Panayiotou'}, {'answer': 'GEORGE MICHAEL'}, {'answer': 'Anselmo Feleppa', 'provenance': [{'wikipedia_id': '45985', 'title': 'George Michael', 'start_paragraph_id': 24, 'start_character': 275, 'end_paragraph_id': 24, 'end_character': 290, 'bleu_score': 1.0, 'section': 'Section::::Solo career.:1990s.\\n'}]}, {'answer': 'George Michael', 'provenance': [{'wikipedia_id': '45985', 'title': 'George Michael', 'start_paragraph_id': 0, 'start_character': 0, 'end_paragraph_id': 0, 'end_character': 14, 'bleu_score': 1.0, 'section': 'Section::::Abstract.'}]}, {'answer': 'George Michael (musician)'}, {'answer': 'Georgios Kyriacos Panayiotou', 'provenance': [{'wikipedia_id': '45985', 'title': 'George Michael', 'start_paragraph_id': 1, 'start_character': 21, 'end_paragraph_id': 1, 'end_character': 49, 'bleu_score': 1.0, 'section': 'Section::::Abstract.'}]}, {'answer': 'Kenny Goss', 'provenance': [{'wikipedia_id': '45985', 'title': 'George Michael', 'start_paragraph_id': 60, 'start_character': 60, 'end_paragraph_id': 60, 'end_character': 70, 'bleu_score': 1.0, 'section': 'Section::::Personal life.:Sexuality and relationships.\\n'}]}, {'answer': 'Michael, George'}, {'answer': 'George michael'}, {'answer': 'George Michæl'}, {'answer': 'Georgios Kyriakou Panayiotou'}, {'answer': 'george michæl'}, {'answer': 'george michael'}, {'answer': 'michael george'}, {'answer': 'anselmo feleppa'}, {'answer': 'george michael musician'}, {'answer': 'georgios panayiotou'}, {'answer': 'georgios kyriakou panayiotou'}, {'answer': 'georgios kyriacos panayiotou'}, {'answer': 'kenny goss'}]\n",
      "\n",
      "\n",
      "input: George Ford is a player and dad Mike Ford is the coach at which English rugby club?\n",
      "output: [{'answer': 'Baath (disambiguation)'}, {'answer': 'BATH'}, {'answer': 'Baath'}, {'answer': 'Baʿth'}, {'answer': 'Ba’th'}, {'answer': 'bath'}, {'answer': 'baath'}, {'answer': 'baʿth'}, {'answer': 'ba th'}, {'answer': 'baath disambiguation'}]\n",
      "\n",
      "\n",
      "input: What surname is shared by the Formula 1 champions in 1962, 1968, and 1996?\n",
      "output: [{'answer': 'A. Hill'}, {'answer': 'A Hill'}, {'answer': 'HILL'}, {'answer': 'Allen Hill'}, {'answer': 'hill'}, {'answer': 'allen hill'}]\n",
      "\n",
      "\n",
      "input: Minnie is the title character in which Puccini opera?\n",
      "output: [{'answer': 'The GIRL OF THE WEST'}, {'answer': 'girl of west'}]\n",
      "\n",
      "\n",
      "input: To within two years either way, when did Rupert Bear first appear in the Daily Express?\n",
      "output: [{'answer': '1920', 'provenance': [{'wikipedia_id': '333861', 'title': 'Rupert Bear', 'start_paragraph_id': 1, 'start_character': 160, 'end_paragraph_id': 1, 'end_character': 164, 'bleu_score': 1.0, 'section': 'Section::::Abstract.'}]}, {'answer': '1920'}, {'answer': '1920', 'provenance': [{'wikipedia_id': '30535', 'title': 'Theodore Roosevelt', 'start_paragraph_id': 4, 'start_character': 664, 'end_paragraph_id': 4, 'end_character': 668, 'bleu_score': 1.0, 'section': 'Section::::Abstract.'}]}, {'answer': 'one thousand, nine hundred and twenty'}, {'answer': 'one thousand nine hundred and twenty'}]\n",
      "\n",
      "\n",
      "input: The Lech, Enns, Ipel and Nera are all tributaries of which major river?\n",
      "output: [{'answer': 'Dunarea'}, {'answer': 'Tuna River'}, {'answer': 'Dunare'}, {'answer': 'Donau River'}, {'answer': 'Istrum'}, {'answer': 'Dounavis'}, {'answer': 'The Danube'}, {'answer': 'Istros River'}, {'answer': 'Matoas'}, {'answer': 'Donaris'}, {'answer': 'Dunăre'}, {'answer': 'Danube Valley'}, {'answer': 'DANUBE'}, {'answer': 'Дунав'}, {'answer': 'Tuna river'}, {'answer': 'Danubian'}, {'answer': 'The Danube River'}, {'answer': 'Middle Danube River'}, {'answer': 'Lower Danube'}, {'answer': 'Danube river'}, {'answer': 'Danubius'}, {'answer': 'Tuonawa'}, {'answer': 'Danuvius'}, {'answer': 'Dunaj River'}, {'answer': 'Tuna Nehri'}, {'answer': 'River Danube'}, {'answer': 'River Donau'}, {'answer': 'Danube River'}, {'answer': 'Danube River', 'provenance': [{'wikipedia_id': '1073452', 'title': 'Enns (river)', 'start_paragraph_id': 1, 'start_character': 40, 'end_paragraph_id': 1, 'end_character': 52, 'bleu_score': 1.0, 'section': 'Section::::Abstract.'}]}, {'answer': 'Danube River', 'provenance': [{'wikipedia_id': '1089257', 'title': 'Ipeľ', 'start_paragraph_id': 1, 'start_character': 159, 'end_paragraph_id': 1, 'end_character': 171, 'bleu_score': 1.0, 'section': 'Section::::Abstract.'}]}, {'answer': 'Danubii'}, {'answer': 'Danubo'}, {'answer': 'Middle Danube'}, {'answer': 'Tuna nehri'}, {'answer': 'Dunav'}, {'answer': 'Danube', 'provenance': [{'wikipedia_id': '190797', 'title': 'Lech (river)', 'start_paragraph_id': 1, 'start_character': 87, 'end_paragraph_id': 1, 'end_character': 93, 'bleu_score': 1.0, 'section': 'Section::::Abstract.'}]}, {'answer': 'Danube', 'provenance': [{'wikipedia_id': '1073452', 'title': 'Enns (river)', 'start_paragraph_id': 1, 'start_character': 40, 'end_paragraph_id': 1, 'end_character': 46, 'bleu_score': 1.0, 'section': 'Section::::Abstract.'}]}, {'answer': 'Danube', 'provenance': [{'wikipedia_id': '1089257', 'title': 'Ipeľ', 'start_paragraph_id': 1, 'start_character': 159, 'end_paragraph_id': 1, 'end_character': 165, 'bleu_score': 1.0, 'section': 'Section::::Abstract.'}]}, {'answer': 'Danube', 'provenance': [{'wikipedia_id': '2883312', 'title': 'Nera (Danube)', 'start_paragraph_id': 0, 'start_character': 6, 'end_paragraph_id': 0, 'end_character': 12, 'bleu_score': 1.0, 'section': 'Section::::Abstract.'}]}, {'answer': 'Danaw'}, {'answer': 'International ports of Danube River'}, {'answer': 'dounavis'}, {'answer': 'river danube'}, {'answer': 'danube valley'}, {'answer': 'danubian'}, {'answer': 'danubius'}, {'answer': 'tuonawa'}, {'answer': 'danaw'}, {'answer': 'river donau'}, {'answer': 'middle danube river'}, {'answer': 'dunare'}, {'answer': 'tuna river'}, {'answer': 'middle danube'}, {'answer': 'matoas'}, {'answer': 'danubo'}, {'answer': 'donau river'}, {'answer': 'danube river'}, {'answer': 'dunăre'}, {'answer': 'dunaj river'}, {'answer': 'dunav'}, {'answer': 'tuna nehri'}, {'answer': 'дунав'}, {'answer': 'donaris'}, {'answer': 'lower danube'}, {'answer': 'danuvius'}, {'answer': 'dunarea'}, {'answer': 'danubii'}, {'answer': 'international ports of danube river'}, {'answer': 'danube'}, {'answer': 'istros river'}, {'answer': 'istrum'}]\n",
      "\n",
      "\n",
      "input: What river flows through the Welsh city of Newport?\n",
      "output: [{'answer': 'Unterhaltungssoftware Selbstkontrolle'}, {'answer': 'USK'}, {'answer': 'usk'}, {'answer': 'unterhaltungssoftware selbstkontrolle'}]\n",
      "\n",
      "\n"
     ]
    }
   ],
   "source": [
    "idx = 10\n",
    "\n",
    "for _input, _output in zip(train_dict['input'][:idx], train_dict['output'][:idx]):\n",
    "    print(f'input: {_input}\\noutput: {_output}\\n\\n')"
   ]
  },
  {
   "cell_type": "code",
   "execution_count": 49,
   "metadata": {},
   "outputs": [
    {
     "data": {
      "text/plain": [
       "['What denomination of British bank note depicts twenty prisoners crammed into one cell?',\n",
       " 'Under what name did Terry the dog achieve fame in a 1939 film?',\n",
       " 'Who connects the BBC news, ‘Crimewatch’, and ‘Antiques Roadshow’?',\n",
       " 'Born in 1963, whose real name is Georgios Kyriacos Panayiotou?',\n",
       " 'George Ford is a player and dad Mike Ford is the coach at which English rugby club?',\n",
       " 'What surname is shared by the Formula 1 champions in 1962, 1968, and 1996?',\n",
       " 'Minnie is the title character in which Puccini opera?',\n",
       " 'To within two years either way, when did Rupert Bear first appear in the Daily Express?',\n",
       " 'The Lech, Enns, Ipel and Nera are all tributaries of which major river?',\n",
       " 'What river flows through the Welsh city of Newport?']"
      ]
     },
     "execution_count": 49,
     "metadata": {},
     "output_type": "execute_result"
    }
   ],
   "source": [
    "list(train_dict['input'])[:10]"
   ]
  },
  {
   "cell_type": "code",
   "execution_count": 50,
   "metadata": {},
   "outputs": [
    {
     "data": {
      "text/plain": [
       "[[{'answer': 'five  £'},\n",
       "  {'answer': '5 £'},\n",
       "  {'answer': '£5',\n",
       "   'provenance': [{'wikipedia_id': '270680',\n",
       "     'title': 'Banknotes of the pound sterling',\n",
       "     'start_paragraph_id': 30,\n",
       "     'start_character': 246,\n",
       "     'end_paragraph_id': 30,\n",
       "     'end_character': 248,\n",
       "     'bleu_score': 1.0,\n",
       "     'section': 'Section::::Question of legal tender.\\n'}]},\n",
       "  {'answer': 'five £'}],\n",
       " [{'answer': 'TOTO (disambiguation)'},\n",
       "  {'answer': 'TOTO'},\n",
       "  {'answer': 'toto disambiguation'},\n",
       "  {'answer': 'toto'}],\n",
       " [{'answer': 'FIONA BRUCE'},\n",
       "  {'answer': 'Fiona Bruce',\n",
       "   'provenance': [{'wikipedia_id': '1139893',\n",
       "     'title': 'BBC News',\n",
       "     'start_paragraph_id': 51,\n",
       "     'start_character': 271,\n",
       "     'end_paragraph_id': 51,\n",
       "     'end_character': 282,\n",
       "     'bleu_score': 1.0,\n",
       "     'section': 'Section::::History.:2000s.\\n'}]},\n",
       "  {'answer': 'Fiona Bruce',\n",
       "   'provenance': [{'wikipedia_id': '23297505',\n",
       "     'title': 'Crimewatch',\n",
       "     'start_paragraph_id': 2,\n",
       "     'start_character': 402,\n",
       "     'end_paragraph_id': 2,\n",
       "     'end_character': 413,\n",
       "     'bleu_score': 1.0,\n",
       "     'section': 'Section::::Abstract.'}]},\n",
       "  {'answer': 'Fiona Bruce',\n",
       "   'provenance': [{'wikipedia_id': '538901',\n",
       "     'title': 'Antiques Roadshow',\n",
       "     'start_paragraph_id': 1,\n",
       "     'start_character': 490,\n",
       "     'end_paragraph_id': 1,\n",
       "     'end_character': 501,\n",
       "     'bleu_score': 1.0,\n",
       "     'section': 'Section::::Abstract.'}]},\n",
       "  {'answer': 'fiona bruce'}]]"
      ]
     },
     "execution_count": 50,
     "metadata": {},
     "output_type": "execute_result"
    }
   ],
   "source": [
    "list(train_dict['output'])[:3]"
   ]
  },
  {
   "cell_type": "code",
   "execution_count": 51,
   "metadata": {},
   "outputs": [],
   "source": [
    "wiki_dict = {'input': [], 'wiki_id': [], 'title': []}\n",
    "\n",
    "for _input, _output in zip(train_dict['input'], train_dict['output']):\n",
    "    \n",
    "    title_list = []; id_list = []\n",
    "    for elem in _output:\n",
    "        if 'provenance' in elem.keys():\n",
    "            for _elem in elem['provenance']:\n",
    "                title_list.append(_elem['title'])\n",
    "                id_list.append(_elem['wikipedia_id'])\n",
    "    #if len(set(title_list)) > 1: print(title_list)\n",
    "    wiki_dict['input'].append(_input)\n",
    "    wiki_dict['wiki_id'].append(id_list)\n",
    "    wiki_dict['title'].append(title_list)"
   ]
  },
  {
   "cell_type": "code",
   "execution_count": 52,
   "metadata": {},
   "outputs": [
    {
     "data": {
      "text/plain": [
       "61844"
      ]
     },
     "execution_count": 52,
     "metadata": {},
     "output_type": "execute_result"
    }
   ],
   "source": [
    "len(wiki_dict['input'])"
   ]
  },
  {
   "cell_type": "code",
   "execution_count": 53,
   "metadata": {},
   "outputs": [],
   "source": [
    "train_dict = {'input': [], 'wiki_id': [], 'title': []}\n",
    "dev_dict = {'input': [], 'wiki_id': [], 'title': []}\n",
    "test_dict = {'input': [], 'wiki_id': [], 'title': []}\n",
    "\n",
    "for i, (_input, _id, _title) in enumerate(zip(wiki_dict['input'], wiki_dict['wiki_id'], wiki_dict['title'])):\n",
    "    if i<50000:\n",
    "        train_dict['input'].append(_input)\n",
    "        train_dict['wiki_id'].append(_id)\n",
    "        train_dict['title'].append(_title)\n",
    "    elif i<50000+5000:\n",
    "        dev_dict['input'].append(_input)\n",
    "        dev_dict['wiki_id'].append(_id)\n",
    "        dev_dict['title'].append(_title)\n",
    "    elif i<50000+5000+10000:\n",
    "        test_dict['input'].append(_input)\n",
    "        test_dict['wiki_id'].append(_id)\n",
    "        test_dict['title'].append(_title)\n",
    "    else:\n",
    "        continue\n"
   ]
  },
  {
   "cell_type": "code",
   "execution_count": 54,
   "metadata": {},
   "outputs": [
    {
     "name": "stdout",
     "output_type": "stream",
     "text": [
      "train: 50000\n",
      "dev: 5000\n",
      "test: 6844\n"
     ]
    }
   ],
   "source": [
    "print(f'train: {len(train_dict[\"input\"])}\\ndev: {len(dev_dict[\"input\"])}\\ntest: {len(test_dict[\"input\"])}')"
   ]
  },
  {
   "cell_type": "code",
   "execution_count": 55,
   "metadata": {},
   "outputs": [
    {
     "name": "stdout",
     "output_type": "stream",
     "text": [
      "Dict #: 50000\n",
      "Csv #: 142031\n",
      " \n",
      "Dict #: 5000\n",
      "Csv #: 13075\n",
      " \n",
      "Dict #: 6844\n",
      "Csv #: 22176\n",
      " \n"
     ]
    }
   ],
   "source": [
    "def dict2csv(_dict):\n",
    "    print(f'Dict #: {len(_dict[\"input\"])}')\n",
    "    df = {'input': [], 'output': []}\n",
    "    for _input, _title_list in zip(_dict['input'], _dict['title']):\n",
    "        for _title in _title_list:\n",
    "            df['input'].append(_input)\n",
    "            df['output'].append(_title)\n",
    "    print(f'Csv #: {len(df[\"input\"])}')\n",
    "    print(' ')\n",
    "    return df\n",
    "            \n",
    "train_csv = dict2csv(train_dict)\n",
    "dev_csv = dict2csv(dev_dict)\n",
    "test_csv = dict2csv(test_dict)"
   ]
  },
  {
   "cell_type": "code",
   "execution_count": 56,
   "metadata": {},
   "outputs": [],
   "source": [
    "import pickle\n",
    "import pandas as pd\n",
    "\n",
    "with open('train_total.pickle', 'wb') as f:\n",
    "    pickle.dump(wiki_dict, f)\n",
    "    \n",
    "df = pd.DataFrame(train_csv)\n",
    "df.to_csv(f'../kilt_{dname}/{dname}_toy_train.csv')\n",
    "df = pd.DataFrame(dev_csv)\n",
    "df.to_csv(f'../kilt_{dname}/{dname}_toy_dev.csv')\n",
    "df = pd.DataFrame(test_csv)\n",
    "df.to_csv(f'../kilt_{dname}/{dname}_toy_test.csv')"
   ]
  },
  {
   "cell_type": "code",
   "execution_count": 57,
   "metadata": {},
   "outputs": [
    {
     "data": {
      "text/plain": [
       "36213"
      ]
     },
     "execution_count": 57,
     "metadata": {},
     "output_type": "execute_result"
    }
   ],
   "source": [
    "total_title = list(set(train_csv['output'] + dev_csv['output'] + test_csv['output']))\n",
    "len(total_title)"
   ]
  },
  {
   "cell_type": "code",
   "execution_count": 58,
   "metadata": {},
   "outputs": [],
   "source": [
    "df = pd.DataFrame({'corpus': total_title})\n",
    "df.to_csv(f'../kilt_{dname}/scale_1_kilt_corpus.csv')"
   ]
  },
  {
   "cell_type": "code",
   "execution_count": null,
   "metadata": {},
   "outputs": [],
   "source": []
  },
  {
   "cell_type": "code",
   "execution_count": 59,
   "metadata": {},
   "outputs": [],
   "source": [
    "def csv2pickle(_csv):\n",
    "    output_tokid = [0]*len(_csv['output'])\n",
    "    _pickle = {'input': list(_csv['input']), 'output': list(_csv['output']), 'output_tokid': output_tokid}\n",
    "    return _pickle\n",
    "\n",
    "train_p = csv2pickle(train_csv)\n",
    "dev_p = csv2pickle(dev_csv)\n",
    "test_p = csv2pickle(test_csv)\n",
    "\n",
    "with open(f'../kilt_{dname}/{dname}_toy_train.pickle', \"wb\") as f:\n",
    "    pickle.dump(train_p, f)\n",
    "with open(f'../kilt_{dname}/{dname}_toy_dev.pickle', 'wb') as f:\n",
    "    pickle.dump(dev_p, f)\n",
    "with open(f'../kilt_{dname}/{dname}_toy_test.pickle', 'wb') as f:\n",
    "    pickle.dump(test_p, f)"
   ]
  },
  {
   "cell_type": "code",
   "execution_count": null,
   "metadata": {},
   "outputs": [],
   "source": []
  },
  {
   "cell_type": "code",
   "execution_count": null,
   "metadata": {},
   "outputs": [],
   "source": []
  }
 ],
 "metadata": {
  "kernelspec": {
   "display_name": "genre2",
   "language": "python",
   "name": "genre2"
  },
  "language_info": {
   "codemirror_mode": {
    "name": "ipython",
    "version": 3
   },
   "file_extension": ".py",
   "mimetype": "text/x-python",
   "name": "python",
   "nbconvert_exporter": "python",
   "pygments_lexer": "ipython3",
   "version": "3.7.13"
  }
 },
 "nbformat": 4,
 "nbformat_minor": 4
}
