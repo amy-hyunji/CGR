{
 "cells": [
  {
   "cell_type": "code",
   "execution_count": 3,
   "metadata": {},
   "outputs": [],
   "source": [
    "import sys\n",
    "import jsonlines\n",
    "\n",
    "\n",
    "# keys -> id, input, output\n",
    "train_dict = {'id': [], 'input': [], 'output': []}\n",
    "with jsonlines.open(\"fever-train-kilt.jsonl\") as f:\n",
    "    for line in f.iter():\n",
    "        train_dict['id'].append(line['id'])\n",
    "        train_dict['input'].append(line['input'])\n",
    "        train_dict['output'].append(line['output'])"
   ]
  },
  {
   "cell_type": "code",
   "execution_count": 4,
   "metadata": {},
   "outputs": [
    {
     "data": {
      "text/plain": [
       "104966"
      ]
     },
     "execution_count": 4,
     "metadata": {},
     "output_type": "execute_result"
    }
   ],
   "source": [
    "len(train_dict['id'])"
   ]
  },
  {
   "cell_type": "code",
   "execution_count": 7,
   "metadata": {},
   "outputs": [
    {
     "data": {
      "text/plain": [
       "['Nikolaj Coster-Waldau worked with the Fox Broadcasting Company.',\n",
       " 'Roman Atwood is a content creator.',\n",
       " 'History of art includes architecture, dance, sculpture, music, painting, poetry literature, theatre, narrative, film, photography and graphic arts.',\n",
       " 'Adrienne Bailon is an accountant.',\n",
       " 'Homeland is an American television spy thriller based on the Israeli television series Prisoners of War.',\n",
       " 'The Boston Celtics play their home games at TD Garden.',\n",
       " 'The Ten Commandments is an epic film.',\n",
       " 'Tetris has sold millions of physical copies.',\n",
       " 'Cyndi Lauper won the Best New Artist award at the 27th Grammy Awards in 1985.',\n",
       " 'There is a movie called The Hunger Games.']"
      ]
     },
     "execution_count": 7,
     "metadata": {},
     "output_type": "execute_result"
    }
   ],
   "source": [
    "list(train_dict['input'])[:10]"
   ]
  },
  {
   "cell_type": "code",
   "execution_count": 11,
   "metadata": {},
   "outputs": [
    {
     "data": {
      "text/plain": [
       "[[{'answer': 'SUPPORTS'}],\n",
       " [{'answer': 'SUPPORTS',\n",
       "   'provenance': [{'wikipedia_id': '43386202',\n",
       "     'title': 'Roman Atwood',\n",
       "     'start_paragraph_id': 1,\n",
       "     'start_character': 111,\n",
       "     'end_paragraph_id': 1,\n",
       "     'end_character': 181,\n",
       "     'bleu_score': 0.7404008324993688,\n",
       "     'section': 'Section::::Abstract.'}]},\n",
       "  {'answer': 'SUPPORTS'}],\n",
       " [{'answer': 'SUPPORTS'}]]"
      ]
     },
     "execution_count": 11,
     "metadata": {},
     "output_type": "execute_result"
    }
   ],
   "source": [
    "list(train_dict['output'])[:3]"
   ]
  },
  {
   "cell_type": "code",
   "execution_count": 16,
   "metadata": {},
   "outputs": [],
   "source": [
    "wiki_dict = {'input': [], 'wiki_id': [], 'title': []}\n",
    "\n",
    "for _input, _output in zip(train_dict['input'], train_dict['output']):\n",
    "    \n",
    "    title_list = []; id_list = []\n",
    "    for elem in _output:\n",
    "        if 'provenance' in elem.keys():\n",
    "            for _elem in elem['provenance']:\n",
    "                title_list.append(_elem['title'])\n",
    "                id_list.append(_elem['wikipedia_id'])\n",
    "    #if len(set(title_list)) > 1: print(title_list)\n",
    "    wiki_dict['input'].append(_input)\n",
    "    wiki_dict['wiki_id'].append(id_list)\n",
    "    wiki_dict['title'].append(title_list)"
   ]
  },
  {
   "cell_type": "code",
   "execution_count": 17,
   "metadata": {},
   "outputs": [
    {
     "data": {
      "text/plain": [
       "104966"
      ]
     },
     "execution_count": 17,
     "metadata": {},
     "output_type": "execute_result"
    }
   ],
   "source": [
    "len(wiki_dict['input'])"
   ]
  },
  {
   "cell_type": "code",
   "execution_count": 18,
   "metadata": {},
   "outputs": [],
   "source": [
    "train_dict = {'input': [], 'wiki_id': [], 'title': []}\n",
    "dev_dict = {'input': [], 'wiki_id': [], 'title': []}\n",
    "test_dict = {'input': [], 'wiki_id': [], 'title': []}\n",
    "\n",
    "for i, (_input, _id, _title) in enumerate(zip(wiki_dict['input'], wiki_dict['wiki_id'], wiki_dict['title'])):\n",
    "    if i<60000:\n",
    "        train_dict['input'].append(_input)\n",
    "        train_dict['wiki_id'].append(_id)\n",
    "        train_dict['title'].append(_title)\n",
    "    elif i<60000+7000:\n",
    "        dev_dict['input'].append(_input)\n",
    "        dev_dict['wiki_id'].append(_id)\n",
    "        dev_dict['title'].append(_title)\n",
    "    elif i<60000+7000+10000:\n",
    "        test_dict['input'].append(_input)\n",
    "        test_dict['wiki_id'].append(_id)\n",
    "        test_dict['title'].append(_title)\n",
    "    else:\n",
    "        continue\n"
   ]
  },
  {
   "cell_type": "code",
   "execution_count": 19,
   "metadata": {},
   "outputs": [
    {
     "name": "stdout",
     "output_type": "stream",
     "text": [
      "train: 60000\n",
      "dev: 7000\n",
      "test: 10000\n"
     ]
    }
   ],
   "source": [
    "print(f'train: {len(train_dict[\"input\"])}\\ndev: {len(dev_dict[\"input\"])}\\ntest: {len(test_dict[\"input\"])}')"
   ]
  },
  {
   "cell_type": "code",
   "execution_count": 28,
   "metadata": {},
   "outputs": [
    {
     "name": "stdout",
     "output_type": "stream",
     "text": [
      "Dict #: 60000\n",
      "Csv #: 65231\n",
      " \n",
      "Dict #: 7000\n",
      "Csv #: 7544\n",
      " \n",
      "Dict #: 10000\n",
      "Csv #: 10770\n",
      " \n"
     ]
    }
   ],
   "source": [
    "def dict2csv(_dict):\n",
    "    print(f'Dict #: {len(_dict[\"input\"])}')\n",
    "    df = {'input': [], 'output': []}\n",
    "    for _input, _title_list in zip(_dict['input'], _dict['title']):\n",
    "        for _title in _title_list:\n",
    "            df['input'].append(_input)\n",
    "            df['output'].append(_title)\n",
    "    print(f'Csv #: {len(df[\"input\"])}')\n",
    "    print(' ')\n",
    "    return df\n",
    "            \n",
    "train_csv = dict2csv(train_dict)\n",
    "dev_csv = dict2csv(dev_dict)\n",
    "test_csv = dict2csv(test_dict)"
   ]
  },
  {
   "cell_type": "code",
   "execution_count": 29,
   "metadata": {},
   "outputs": [],
   "source": [
    "import pickle\n",
    "import pandas as pd\n",
    "\n",
    "with open('train_total.pickle', 'wb') as f:\n",
    "    pickle.dump(wiki_dict, f)\n",
    "    \n",
    "df = pd.DataFrame(train_csv)\n",
    "df.to_csv('fever_toy_train.csv')\n",
    "df = pd.DataFrame(dev_csv)\n",
    "df.to_csv('fever_toy_dev.csv')\n",
    "df = pd.DataFrame(test_csv)\n",
    "df.to_csv('fever_toy_test.csv')"
   ]
  },
  {
   "cell_type": "code",
   "execution_count": 31,
   "metadata": {},
   "outputs": [
    {
     "data": {
      "text/plain": [
       "6063"
      ]
     },
     "execution_count": 31,
     "metadata": {},
     "output_type": "execute_result"
    }
   ],
   "source": [
    "total_title = list(set(train_csv['output'] + dev_csv['output'] + test_csv['output']))\n",
    "len(total_title)"
   ]
  },
  {
   "cell_type": "code",
   "execution_count": 32,
   "metadata": {},
   "outputs": [],
   "source": [
    "df = pd.DataFrame({'corpus': total_title})\n",
    "df.to_csv('scale_1_kilt_corpus.csv')"
   ]
  },
  {
   "cell_type": "code",
   "execution_count": null,
   "metadata": {},
   "outputs": [],
   "source": []
  },
  {
   "cell_type": "code",
   "execution_count": 33,
   "metadata": {},
   "outputs": [],
   "source": [
    "def csv2pickle(_csv):\n",
    "    _pickle = {'input': list(_csv['input']), 'output': list(_csv['output'])}\n",
    "    return _pickle\n",
    "\n",
    "train_p = csv2pickle(train_csv)\n",
    "dev_p = csv2pickle(dev_csv)\n",
    "test_p = csv2pickle(test_csv)\n",
    "\n",
    "with open('fever_toy_train.pickle', \"wb\") as f:\n",
    "    pickle.dump(train_p, f)\n",
    "with open('fever_toy_dev.pickle', 'wb') as f:\n",
    "    pickle.dump(dev_p, f)\n",
    "with open('fever_toy_test.pickle', 'wb') as f:\n",
    "    pickle.dump(test_p, f)"
   ]
  },
  {
   "cell_type": "code",
   "execution_count": null,
   "metadata": {},
   "outputs": [],
   "source": []
  }
 ],
 "metadata": {
  "kernelspec": {
   "display_name": "genre2",
   "language": "python",
   "name": "genre2"
  },
  "language_info": {
   "codemirror_mode": {
    "name": "ipython",
    "version": 3
   },
   "file_extension": ".py",
   "mimetype": "text/x-python",
   "name": "python",
   "nbconvert_exporter": "python",
   "pygments_lexer": "ipython3",
   "version": "3.7.13"
  }
 },
 "nbformat": 4,
 "nbformat_minor": 4
}
